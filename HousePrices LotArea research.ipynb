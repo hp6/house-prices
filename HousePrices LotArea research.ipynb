{
 "cells": [
  {
   "cell_type": "code",
   "execution_count": 1,
   "metadata": {},
   "outputs": [],
   "source": [
    "%load_ext autoreload\n",
    "%autoreload 2\n",
    "\n",
    "import numpy as np\n",
    "import pandas as pd\n",
    "import matplotlib.pyplot as plt\n",
    "import re\n",
    "\n",
    "from sklearn.model_selection import train_test_split, GridSearchCV\n",
    "\n",
    "from sklearn.impute import SimpleImputer\n",
    "\n",
    "from sklearn.preprocessing import StandardScaler\n",
    "from sklearn.preprocessing import OneHotEncoder\n",
    "from sklearn.preprocessing import LabelEncoder\n",
    "\n",
    "from sklearn.svm import SVR\n",
    "\n",
    "from sklearn.pipeline import Pipeline, FeatureUnion\n",
    "\n",
    "from sklearn.metrics import mean_squared_error\n",
    "\n",
    "import functions as f\n",
    "import classes as c"
   ]
  },
  {
   "cell_type": "code",
   "execution_count": 12,
   "metadata": {},
   "outputs": [],
   "source": [
    "train_df = pd.read_csv(\"datasets/train.csv\", na_values=np.NaN).set_index(\"Id\")\n",
    "test_df = pd.read_csv(\"datasets/test.csv\", na_values=np.NaN).set_index(\"Id\")\n",
    "corr_matrix = train_df.corr()\n",
    "# train_df[pd.isnull(train_df)] = np.NaN\n",
    "\n",
    "train_df.loc[:, \"LotAreaSqrt\"] = np.sqrt(train_df[\"LotArea\"].values)\n",
    "train_df.loc[:, \"GarageAreaSqrt\"] = np.sqrt(train_df[\"GarageArea\"].values)\n",
    "\n",
    "col_of_interest = [\"LotArea\", \"LotAreaSqrt\", \"GarageArea\", \"GarageAreaSqrt\", \"LotFrontage\"]\n",
    "train_df = train_df[col_of_interest].copy()\n",
    "train_df.dropna(axis=0, inplace=True)\n",
    "\n",
    "X = train_df.drop(\"LotFrontage\", axis=1).copy()\n",
    "y = train_df[\"LotFrontage\"].copy()\n",
    "\n",
    "\n",
    "X_train, X_test, y_train, y_test = train_test_split(X, y, test_size=0.33, random_state=42)"
   ]
  },
  {
   "cell_type": "code",
   "execution_count": 16,
   "metadata": {},
   "outputs": [],
   "source": [
    "tuned_parameters = [{'kernel': ['rbf'], 'gamma': [1e-1, 1e-2, 1e-3, 1e-4],\n",
    "                     'C': [1, 10, 100, 1000]},\n",
    "                    {'kernel': ['linear'], 'C': [1, 10, 100, 1000]}]"
   ]
  },
  {
   "cell_type": "code",
   "execution_count": 17,
   "metadata": {},
   "outputs": [],
   "source": [
    "clf = GridSearchCV(SVR(), tuned_parameters, cv=5, scoring=\"neg_mean_squared_error\")"
   ]
  },
  {
   "cell_type": "code",
   "execution_count": 18,
   "metadata": {},
   "outputs": [
    {
     "name": "stdout",
     "output_type": "stream",
     "text": [
      "Best parameters set found on development set:\n",
      "{'C': 10, 'gamma': 0.0001, 'kernel': 'rbf'}\n"
     ]
    },
    {
     "name": "stderr",
     "output_type": "stream",
     "text": [
      "C:\\ProgramData\\Anaconda3\\lib\\site-packages\\sklearn\\model_selection\\_search.py:841: DeprecationWarning: The default of the `iid` parameter will change from True to False in version 0.22 and will be removed in 0.24. This will change numeric results when test-set sizes are unequal.\n",
      "  DeprecationWarning)\n"
     ]
    }
   ],
   "source": [
    "clf.fit(X_train, y_train)\n",
    "print(\"Best parameters set found on development set:\")\n",
    "print(clf.best_params_)"
   ]
  },
  {
   "cell_type": "code",
   "execution_count": null,
   "metadata": {},
   "outputs": [],
   "source": [
    "train_df = train_df[[\"LotArea\", \"GarageArea\", \"GarageCars\", \"LotFrontage\"]].copy()\n",
    "train_df.loc[:, \"LotAreaSqrt\"] = np.sqrt(train_df[\"LotArea\"].values)\n",
    "train_df.loc[:, \"GarageAreaSqrt\"] = np.sqrt(train_df[\"GarageArea\"].values)\n",
    "train_df.dropna(axis=0, inplace=True)\n",
    "X = train_df.drop(\"LotFrontage\", axis=1).copy()\n",
    "y = train_df[\"LotFrontage\"].copy()\n",
    "X_train, X_test, y_train, y_test = train_test_split(X, y, test_size=0.33, random_state=42)"
   ]
  },
  {
   "cell_type": "code",
   "execution_count": null,
   "metadata": {},
   "outputs": [],
   "source": [
    "model.fit(X_train, y_train)"
   ]
  },
  {
   "cell_type": "code",
   "execution_count": null,
   "metadata": {},
   "outputs": [],
   "source": [
    "y_train_pr = model.predict(X_train)\n",
    "y_test_pr = model.predict(X_test)\n",
    "mse_train = mean_squared_error(y_train, y_train_pr)\n",
    "mse_test = mean_squared_error(y_test, y_test_pr)"
   ]
  }
 ],
 "metadata": {
  "kernelspec": {
   "display_name": "Python 3",
   "language": "python",
   "name": "python3"
  },
  "language_info": {
   "codemirror_mode": {
    "name": "ipython",
    "version": 3
   },
   "file_extension": ".py",
   "mimetype": "text/x-python",
   "name": "python",
   "nbconvert_exporter": "python",
   "pygments_lexer": "ipython3",
   "version": "3.7.1"
  }
 },
 "nbformat": 4,
 "nbformat_minor": 2
}
