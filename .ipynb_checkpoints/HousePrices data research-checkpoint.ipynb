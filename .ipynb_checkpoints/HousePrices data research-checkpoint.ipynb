{
 "cells": [
  {
   "cell_type": "code",
   "execution_count": 1,
   "metadata": {},
   "outputs": [],
   "source": [
    "%load_ext autoreload\n",
    "%autoreload 2\n",
    "\n",
    "import numpy as np\n",
    "import pandas as pd\n",
    "import matplotlib.pyplot as plt\n",
    "import re\n",
    "\n",
    "from sklearn.model_selection import train_test_split, GridSearchCV\n",
    "\n",
    "from sklearn.impute import SimpleImputer\n",
    "\n",
    "from sklearn.preprocessing import StandardScaler\n",
    "from sklearn.preprocessing import OneHotEncoder\n",
    "from sklearn.preprocessing import LabelEncoder\n",
    "\n",
    "from sklearn.svm import SVR\n",
    "\n",
    "from sklearn.pipeline import Pipeline, FeatureUnion\n",
    "\n",
    "from sklearn.metrics import mean_squared_error\n",
    "\n",
    "import functions as f\n",
    "import classes as c"
   ]
  },
  {
   "cell_type": "code",
   "execution_count": 2,
   "metadata": {},
   "outputs": [],
   "source": [
    "train_df = pd.read_csv(\"datasets/train.csv\", na_values=np.NaN).set_index(\"Id\")\n",
    "test_df = pd.read_csv(\"datasets/test.csv\", na_values=np.NaN).set_index(\"Id\")\n",
    "c.ConflictingDataCleaner(inplace=True).fit_transform(train_df)\n",
    "corr_matrix = train_df.corr()\n",
    "# train_df[pd.isnull(train_df)] = np.NaN\n",
    "X = train_df.drop(\"SalePrice\", axis=1).copy()\n",
    "y = train_df[\"SalePrice\"].copy()\n",
    "\n",
    "X_train, X_test, y_train, y_test = train_test_split(X, y, test_size=0.33, random_state=42)"
   ]
  },
  {
   "cell_type": "code",
   "execution_count": 3,
   "metadata": {},
   "outputs": [],
   "source": [
    "train_incomplete_col = f.columns_with_missing_values(train_df)\n",
    "test_incomplete_col = f.columns_with_missing_values(test_df)\n",
    "incomplete_col_diff = np.setdiff1d(train_incomplete_col, test_incomplete_col), np.setdiff1d(test_incomplete_col, train_incomplete_col)\n",
    "\n",
    "drop_col = []\n",
    "\n",
    "nominal_col = [\"MSSubClass\", \"MSZoning\", \"LandContour\", \"LotConfig\",\n",
    "               \"Neighborhood\", \"Condition1\", \"Condition2\", \"BldgType\", \"HouseStyle\",\n",
    "               \"RoofStyle\", \"RoofMatl\", \"Exterior1st\", \"Exterior2nd\", \"MasVnrType\",\n",
    "               \"Foundation\", \"Heating\", \"Electrical\", \"GarageType\", \"Fence\", \"MiscFeature\", \n",
    "              \"SaleType\", \"SaleCondition\"]\n",
    "binary_col = [\"Street\", \"CentralAir\"]\n",
    "ordinal_col = [\"Alley\", \"LotShape\", \"Utilities\", \"LandSlope\", \"OverallQual\", \"OverallCond\",\n",
    "               \"ExterQual\", \"ExterCond\", \"BsmtQual\", \"BsmtCond\", \"BsmtExposure\", \"BsmtFinType1\",\n",
    "               \"BsmtFinType2\", \"HeatingQC\", \"KitchenQual\", \"Functional\", \"FireplaceQu\",\n",
    "               \"GarageFinish\", \"GarageQual\", \"GarageCond\", \"PavedDrive\", \"PoolQC\"]\n",
    "count_col = [\"BsmtFullBath\", \"BsmtHalfBath\", \"FullBath\", \"HalfBath\", \"BedroomAbvGr\", \"KitchenAbvGr\",\n",
    "                \"TotRmsAbvGrd\", \"Fireplaces\", \"GarageCars\"]\n",
    "interval_col = [\"LotFrontage\", \"LotArea\", \"MasVnrArea\", \"BsmtFinSF1\", \"BsmtFinSF2\", \"BsmtUnfSF\",\n",
    "                \"TotalBsmtSF\", \"1stFlrSF\", \"2ndFlrSF\", \"LowQualFinSF\", \"GrLivArea\",\n",
    "                \"GarageArea\", \"WoodDeckSF\", \"OpenPorchSF\", \"EnclosedPorch\", \"3SsnPorch\",\n",
    "                \"ScreenPorch\", \"PoolArea\", \"MiscVal\"]\n",
    "time_col = [\"YearBuilt\", \"YearRemodAdd\", \"GarageYrBlt\", \"MoSold\", \"YrSold\"]\n",
    "\n",
    "cat_num_col = [\"MSSubClass\"]\n",
    "miss_vall_col = [\"LotFrontage\", \"MasVnrArea\", \"MasVnrType\", \"Electrical\", \"GarageYrBlt\"]\n",
    "na_cat_col = [\"Alley\", \"BsmtQual\", \"BsmtCond\", \"BsmtExposure\", \"BsmtFinType1\",\n",
    "                  \"BsmtFinType2\", \"FireplaceQu\", \"GarageType\", \"GarageFinish\", \"GarageQual\",\n",
    "                  \"GarageCond\", \"PoolQC\", \"Fence\", \"MiscFeature\"]\n",
    "\n",
    "nominal_col_cats = f.unique_values(train_df[nominal_col])\n",
    "binary_col_cats = f.unique_values(train_df[binary_col])\n",
    "ordinal_col_cats = f.unique_values(train_df[ordinal_col])\n",
    "\n",
    "# one_hot_col = nominal_col + \n",
    "# label_enc_col = binary_col + ordinal_col"
   ]
  },
  {
   "cell_type": "code",
   "execution_count": 4,
   "metadata": {},
   "outputs": [],
   "source": [
    "count_interval_time_pip = Pipeline([\n",
    "                (\"selector\", c.DataFrameSelector(columns=interval_col)),\n",
    "                (\"standard\", StandardScaler())\n",
    "            ])\n",
    "nominal_pip = Pipeline([\n",
    "                (\"selector\", c.DataFrameSelector(columns=nominal_col)),\n",
    "                (\"one_hot_encoder\", OneHotEncoder(handle_unknown=\"ignore\", categories=nominal_col_cats, sparse=False))\n",
    "            ])\n",
    "binary_ordinal_pip = Pipeline([\n",
    "                (\"selector\", c.DataFrameSelector(columns=binary_col+ordinal_col)),\n",
    "                (\"one_hot_encoder\", OneHotEncoder(handle_unknown=\"ignore\", categories=binary_col_cats+ordinal_col_cats, sparse=False))\n",
    "            ])\n",
    "missing_vallue_pip = Pipeline([\n",
    "                (\"selector\", c.DataFrameSelector(columns=X_train.columns, inplace=False)),\n",
    "                (\"mas_vnr_imputer\", c.ConstantImputer(columns=[\"MasVnrArea\", \"MasVnrType\"], string_fill_val=\"None\", inplace=True)),\n",
    "                (\"electrical_imputer\", c.DataFrameImputer(strategy=\"most_frequent\", columns=[\"Electrical\"], inplace=True)),\n",
    "                (\"garage_yr_imputer\", c.GarageYrImputer(inplace=True)),\n",
    "                (\"lot_frontage_imputer\", c.LotFrontageImputer(inplace=True)),\n",
    "                (\"all_constant_imputer\", c.ConstantImputer(columns=X_train.columns, inplace=True))\n",
    "            ])\n"
   ]
  },
  {
   "cell_type": "code",
   "execution_count": 5,
   "metadata": {},
   "outputs": [],
   "source": [
    "full_pip = Pipeline([\n",
    "    (\"missing_vallue\", missing_vallue_pip),\n",
    "    (\"feature_union\", FeatureUnion([\n",
    "        (\"count_interval_time\", count_interval_time_pip),\n",
    "        (\"nominal\", nominal_pip),\n",
    "        (\"binary_ordinal_pip\", binary_ordinal_pip)]))\n",
    "])"
   ]
  },
  {
   "cell_type": "code",
   "execution_count": 6,
   "metadata": {
    "scrolled": true
   },
   "outputs": [
    {
     "name": "stderr",
     "output_type": "stream",
     "text": [
      "C:\\Users\\Paul\\AppData\\Local\\conda\\conda\\envs\\handson-ml\\lib\\site-packages\\sklearn\\preprocessing\\data.py:645: DataConversionWarning: Data with input dtype int64, float64 were all converted to float64 by StandardScaler.\n",
      "  return self.partial_fit(X, y)\n",
      "C:\\Users\\Paul\\AppData\\Local\\conda\\conda\\envs\\handson-ml\\lib\\site-packages\\sklearn\\base.py:464: DataConversionWarning: Data with input dtype int64, float64 were all converted to float64 by StandardScaler.\n",
      "  return self.fit(X, **fit_params).transform(X)\n",
      "C:\\Users\\Paul\\AppData\\Local\\conda\\conda\\envs\\handson-ml\\lib\\site-packages\\sklearn\\pipeline.py:451: DataConversionWarning: Data with input dtype int64, float64 were all converted to float64 by StandardScaler.\n",
      "  Xt = transform.transform(Xt)\n"
     ]
    }
   ],
   "source": [
    "X_train_tr = full_pip.fit_transform(X_train)\n",
    "X_test_tr = full_pip.transform(X_test)"
   ]
  },
  {
   "cell_type": "code",
   "execution_count": 9,
   "metadata": {},
   "outputs": [],
   "source": [
    "tuned_parameters = [{'kernel': ['rbf'], 'gamma': [1e-1, 1e-2, 1e-3, 1e-4, 1e-5, 1e-6],\n",
    "                     'C': [1, 10, 100, 1000]},\n",
    "                    {'kernel': ['linear'], 'C': [1, 10, 100, 1000]}]\n",
    "clf = GridSearchCV(SVR(), tuned_parameters, cv=5, scoring=\"neg_mean_squared_error\", verbose=1)"
   ]
  },
  {
   "cell_type": "code",
   "execution_count": 11,
   "metadata": {},
   "outputs": [
    {
     "name": "stdout",
     "output_type": "stream",
     "text": [
      "Fitting 5 folds for each of 28 candidates, totalling 140 fits\n"
     ]
    },
    {
     "name": "stderr",
     "output_type": "stream",
     "text": [
      "[Parallel(n_jobs=1)]: Using backend SequentialBackend with 1 concurrent workers.\n",
      "[Parallel(n_jobs=1)]: Done 140 out of 140 | elapsed:  1.2min finished\n",
      "C:\\Users\\Paul\\AppData\\Local\\conda\\conda\\envs\\handson-ml\\lib\\site-packages\\sklearn\\model_selection\\_search.py:841: DeprecationWarning: The default of the `iid` parameter will change from True to False in version 0.22 and will be removed in 0.24. This will change numeric results when test-set sizes are unequal.\n",
      "  DeprecationWarning)\n"
     ]
    },
    {
     "name": "stdout",
     "output_type": "stream",
     "text": [
      "Best parameters set found on development set:\n",
      "{'C': 1000, 'kernel': 'linear'}\n"
     ]
    }
   ],
   "source": [
    "clf.fit(X_train_tr, y_train)\n",
    "print(\"Best parameters set found on development set:\")\n",
    "print(clf.best_params_)"
   ]
  },
  {
   "cell_type": "code",
   "execution_count": 12,
   "metadata": {},
   "outputs": [
    {
     "data": {
      "text/plain": [
       "(27806.333217104842, 37257.039404755466)"
      ]
     },
     "execution_count": 12,
     "metadata": {},
     "output_type": "execute_result"
    }
   ],
   "source": [
    "model = clf.best_estimator_\n",
    "y_train_pr = model.predict(X_train_tr)\n",
    "y_test_pr = model.predict(X_test_tr)\n",
    "mse_train = mean_squared_error(y_train, y_train_pr)\n",
    "mse_test = mean_squared_error(y_test, y_test_pr)\n",
    "np.sqrt(mse_train), np.sqrt(mse_test)"
   ]
  },
  {
   "cell_type": "code",
   "execution_count": null,
   "metadata": {},
   "outputs": [],
   "source": [
    "mse_train = mean_squared_error(y_train, y_train_pr)"
   ]
  },
  {
   "cell_type": "code",
   "execution_count": null,
   "metadata": {},
   "outputs": [],
   "source": [
    "mse_test = mean_squared_error(y_test, y_test_pr)"
   ]
  },
  {
   "cell_type": "code",
   "execution_count": null,
   "metadata": {},
   "outputs": [],
   "source": [
    "np.sqrt(mse_train), np.sqrt(mse_test)"
   ]
  },
  {
   "cell_type": "code",
   "execution_count": 13,
   "metadata": {},
   "outputs": [
    {
     "data": {
      "text/plain": [
       "<matplotlib.axes._subplots.AxesSubplot at 0x1b0f68ddf28>"
      ]
     },
     "execution_count": 13,
     "metadata": {},
     "output_type": "execute_result"
    },
    {
     "data": {
      "image/png": "[encoded data removed]",
      "text/plain": [
       "<Figure size 432x288 with 1 Axes>"
      ]
     },
     "metadata": {
      "needs_background": "light"
     },
     "output_type": "display_data"
    }
   ],
   "source": [
    "y.hist()"
   ]
  },
  {
   "cell_type": "code",
   "execution_count": null,
   "metadata": {},
   "outputs": [],
   "source": [
    "df = pd.DataFrame({\"n\": [1, 2, 3, 4, 2, 3], \"s\": [\"a\", \"b\", \"c\", \"d\", \"b\", \"c\"]})"
   ]
  },
  {
   "cell_type": "code",
   "execution_count": null,
   "metadata": {},
   "outputs": [],
   "source": [
    "df.drop(df.loc[df[\"n\"] == 2].index, inplace=True)"
   ]
  },
  {
   "cell_type": "code",
   "execution_count": null,
   "metadata": {},
   "outputs": [],
   "source": [
    "df"
   ]
  },
  {
   "cell_type": "code",
   "execution_count": null,
   "metadata": {},
   "outputs": [],
   "source": [
    "df_ohe = c.DataFrameOneHotEncoder(categories=f.unique_values(train_df[[\"MSSubClass\", \"MSZoning\", \"LandContour\"]]), columns=[\"MSSubClass\", \"MSZoning\", \"LandContour\"])"
   ]
  },
  {
   "cell_type": "code",
   "execution_count": null,
   "metadata": {},
   "outputs": [],
   "source": []
  }
 ],
 "metadata": {
  "kernelspec": {
   "display_name": "Python 3",
   "language": "python",
   "name": "python3"
  },
  "language_info": {
   "codemirror_mode": {
    "name": "ipython",
    "version": 3
   },
   "file_extension": ".py",
   "mimetype": "text/x-python",
   "name": "python",
   "nbconvert_exporter": "python",
   "pygments_lexer": "ipython3",
   "version": "3.6.8"
  }
 },
 "nbformat": 4,
 "nbformat_minor": 2
}
