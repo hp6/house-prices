{
 "cells": [
  {
   "cell_type": "code",
   "execution_count": 1,
   "metadata": {},
   "outputs": [],
   "source": [
    "%load_ext autoreload\n",
    "%autoreload 2\n",
    "\n",
    "import numpy as np\n",
    "import pandas as pd\n",
    "import matplotlib.pyplot as plt\n",
    "import re\n",
    "\n",
    "from sklearn.model_selection import train_test_split, GridSearchCV\n",
    "\n",
    "from sklearn.impute import SimpleImputer\n",
    "\n",
    "from sklearn.preprocessing import StandardScaler\n",
    "from sklearn.preprocessing import OneHotEncoder\n",
    "from sklearn.preprocessing import LabelEncoder\n",
    "\n",
    "from sklearn.svm import SVR\n",
    "\n",
    "from sklearn.pipeline import Pipeline, FeatureUnion\n",
    "\n",
    "from sklearn.metrics import mean_squared_error\n",
    "\n",
    "import functions as f\n",
    "import classes as c"
   ]
  },
  {
   "cell_type": "code",
   "execution_count": 2,
   "metadata": {},
   "outputs": [],
   "source": [
    "train_df = pd.read_csv(\"datasets/train.csv\", na_values=np.NaN).set_index(\"Id\")\n",
    "test_df = pd.read_csv(\"datasets/test.csv\", na_values=np.NaN).set_index(\"Id\")\n",
    "c.ConflictingDataCleaner(inplace=True).fit_transform(train_df)\n",
    "corr_matrix = train_df.corr()\n",
    "# train_df[pd.isnull(train_df)] = np.NaN\n",
    "X = train_df.drop(\"SalePrice\", axis=1).copy()\n",
    "y = train_df[\"SalePrice\"].copy()\n",
    "\n",
    "X_train, X_test, y_train, y_test = train_test_split(X, y, test_size=0.33, random_state=42)"
   ]
  },
  {
   "cell_type": "code",
   "execution_count": 3,
   "metadata": {},
   "outputs": [],
   "source": [
    "train_incomplete_col = f.columns_with_missing_values(train_df)\n",
    "test_incomplete_col = f.columns_with_missing_values(test_df)\n",
    "incomplete_col_diff = np.setdiff1d(train_incomplete_col, test_incomplete_col), np.setdiff1d(test_incomplete_col, train_incomplete_col)\n",
    "\n",
    "drop_col = []\n",
    "\n",
    "nominal_col = [\"MSSubClass\", \"MSZoning\", \"LandContour\", \"LotConfig\",\n",
    "               \"Neighborhood\", \"Condition1\", \"Condition2\", \"BldgType\", \"HouseStyle\",\n",
    "               \"RoofStyle\", \"RoofMatl\", \"Exterior1st\", \"Exterior2nd\", \"MasVnrType\",\n",
    "               \"Foundation\", \"Heating\", \"Electrical\", \"GarageType\", \"Fence\", \"MiscFeature\", \n",
    "              \"SaleType\", \"SaleCondition\"]\n",
    "binary_col = [\"Street\", \"CentralAir\"]\n",
    "ordinal_col = [\"Alley\", \"LotShape\", \"Utilities\", \"LandSlope\", \"OverallQual\", \"OverallCond\",\n",
    "               \"ExterQual\", \"ExterCond\", \"BsmtQual\", \"BsmtCond\", \"BsmtExposure\", \"BsmtFinType1\",\n",
    "               \"BsmtFinType2\", \"HeatingQC\", \"KitchenQual\", \"Functional\", \"FireplaceQu\",\n",
    "               \"GarageFinish\", \"GarageQual\", \"GarageCond\", \"PavedDrive\", \"PoolQC\"]\n",
    "count_col = [\"BsmtFullBath\", \"BsmtHalfBath\", \"FullBath\", \"HalfBath\", \"BedroomAbvGr\", \"KitchenAbvGr\",\n",
    "                \"TotRmsAbvGrd\", \"Fireplaces\", \"GarageCars\"]\n",
    "interval_col = [\"LotFrontage\", \"LotArea\", \"MasVnrArea\", \"BsmtFinSF1\", \"BsmtFinSF2\", \"BsmtUnfSF\",\n",
    "                \"TotalBsmtSF\", \"1stFlrSF\", \"2ndFlrSF\", \"LowQualFinSF\", \"GrLivArea\",\n",
    "                \"GarageArea\", \"WoodDeckSF\", \"OpenPorchSF\", \"EnclosedPorch\", \"3SsnPorch\",\n",
    "                \"ScreenPorch\", \"PoolArea\", \"MiscVal\"]\n",
    "time_col = [\"YearBuilt\", \"YearRemodAdd\", \"GarageYrBlt\", \"MoSold\", \"YrSold\"]\n",
    "\n",
    "cat_num_col = [\"MSSubClass\"]\n",
    "miss_vall_col = [\"LotFrontage\", \"MasVnrArea\", \"MasVnrType\", \"Electrical\", \"GarageYrBlt\"]\n",
    "test_miss_val_col = ['MSZoning', 'LotFrontage', 'Utilities', 'Exterior1st',\n",
    "                     'Exterior2nd', 'MasVnrType', 'MasVnrArea','BsmtFinSF1', 'BsmtFinSF2',\n",
    "                     'BsmtUnfSF', 'TotalBsmtSF', 'BsmtFullBath', 'BsmtHalfBath', 'KitchenQual',\n",
    "                     'Functional','GarageYrBlt', 'GarageCars', 'GarageArea', 'SaleType']\n",
    "na_cat_col = [\"Alley\", \"BsmtQual\", \"BsmtCond\", \"BsmtExposure\", \"BsmtFinType1\",\n",
    "                  \"BsmtFinType2\", \"FireplaceQu\", \"GarageType\", \"GarageFinish\", \"GarageQual\",\n",
    "                  \"GarageCond\", \"PoolQC\", \"Fence\", \"MiscFeature\"]\n",
    "\n",
    "new_futures = [\"LotAreaSqrt\", \"GarageAreaSqrt\", \"AgeSold\", \"RemodAge\"]\n",
    "\n",
    "nominal_col_cats = f.unique_values(train_df[nominal_col])\n",
    "binary_col_cats = f.unique_values(train_df[binary_col])\n",
    "ordinal_col_cats = f.unique_values(train_df[ordinal_col])\n",
    "\n",
    "\n",
    "all_initial_futures = nominal_col + binary_col + ordinal_col + count_col + interval_col + time_col\n",
    "# one_hot_col = nominal_col + \n",
    "# label_enc_col = binary_col + ordinal_col\n",
    "important_features = ['GrLivArea', 'BsmtQual_Ex', 'OverallQual_9', 'KitchenQual_Ex',\n",
    "       'ExterQual_Ex', 'OverallCond_3', '2ndFlrSF',\n",
    "       'Neighborhood_NoRidge', 'Functional_Typ', 'OverallCond_8',\n",
    "       'OverallQual_8', 'TotalBsmtSF', 'Neighborhood_Crawfor',\n",
    "       'Neighborhood_Edwards', '1stFlrSF', 'Neighborhood_NridgHt',\n",
    "       'OverallCond_9', 'KitchenAbvGr', 'SaleCondition_Abnorml',\n",
    "       'Neighborhood_StoneBr', 'BsmtFinSF1', 'Neighborhood_Timber',\n",
    "       'OverallCond_7', 'Neighborhood_Mitchel', 'LotAreaSqrt',\n",
    "       'Condition1_Artery', 'OverallQual_3', 'OverallCond_4',\n",
    "       'Exterior1st_BrkFace', 'BsmtQual_TA', 'BsmtExposure_Gd',\n",
    "       'BsmtQual_Gd', 'BldgType_1Fam', 'Functional_Maj1', 'OverallQual_5',\n",
    "       'Condition1_Norm', 'GarageArea', 'OverallQual_6', 'OverallCond_5',\n",
    "       'ExterQual_TA', 'BsmtFinType1_GLQ', 'MSZoning_C (all)',\n",
    "       'BsmtHalfBath', 'Neighborhood_Somerst', 'OverallQual_10',\n",
    "       'Neighborhood_Gilbert', 'OverallQual_4', 'BedroomAbvGr',\n",
    "       'YearBuilt', 'AgeSold', 'KitchenQual_TA', 'Neighborhood_MeadowV',\n",
    "       'Neighborhood_NPkVill', 'Condition1_RRAe', 'YearRemodAdd',\n",
    "       'MasVnrArea', 'Neighborhood_CollgCr', 'GarageCars',\n",
    "       'MasVnrType_BrkCmn', 'MSZoning_RL', 'SaleCondition_Partial',\n",
    "       'Fireplaces', 'RoofStyle_Gable', 'MasVnrType_Stone',\n",
    "       'LandContour_Low', 'SaleCondition_Alloca', 'KitchenQual_Fa',\n",
    "       'ExterQual_Gd', 'BsmtExposure_No', 'GarageCond_Fa',\n",
    "       'Condition2_Norm', 'FireplaceQu_Ex', 'LotConfig_CulDSac',\n",
    "       'KitchenQual_Gd', 'LandSlope_Sev', 'MSSubClass_60',\n",
    "       'BsmtFinType1_Rec', 'SaleType_New', 'PoolArea', 'MSSubClass_70',\n",
    "       'Foundation_PConc', 'HouseStyle_1.5Unf', 'GarageQual_Ex',\n",
    "       'GarageType_2Types', 'Neighborhood_Blmngtn', 'Neighborhood_NAmes',\n",
    "       'Neighborhood_BrkSide', 'RoofStyle_Mansard', 'GarageAreaSqrt',\n",
    "       'LotConfig_FR2', 'GarageType_BuiltIn', 'Exterior2nd_Brk Cmn',\n",
    "       'Neighborhood_SWISU', 'Fence_MnPrv', 'SaleType_COD',\n",
    "       'LandSlope_Gtl', 'BsmtFinType2_BLQ', 'MSZoning_FV',\n",
    "       'Exterior1st_AsbShng', 'Neighborhood_OldTown',\n",
    "       'Neighborhood_SawyerW', 'Neighborhood_NWAmes',\n",
    "       'Exterior1st_Plywood', 'Exterior1st_Stucco', 'GarageQual_Fa',\n",
    "       'MSSubClass_45', 'LandContour_HLS', 'BldgType_Duplex',\n",
    "       'MSSubClass_90', 'BsmtCond_Fa', 'GarageCond_TA', 'LandContour_Bnk',\n",
    "       'Functional_Min2', 'ExterQual_Fa', 'GarageQual_Gd',\n",
    "       'BsmtFinType1_LwQ', 'BsmtExposure_Av', 'MSSubClass_40',\n",
    "       'Exterior2nd_AsbShng', 'MSZoning_RM', 'GarageYrBlt',\n",
    "       'HeatingQC_Ex', 'GarageQual_TA', 'SaleType_WD', 'RemodAge',\n",
    "       'MSSubClass_160', 'Functional_Mod', 'RoofMatl_CompShg',\n",
    "       'Exterior2nd_HdBoard', 'MSSubClass_190', 'Neighborhood_ClearCr',\n",
    "       'SaleType_Con', 'Neighborhood_BrDale', 'Condition2_PosN',\n",
    "       'OverallQual_1', 'RoofMatl_WdShngl', 'GarageCond_Ex',\n",
    "       'Functional_Min1', 'MSSubClass_30', 'BldgType_TwnhsE',\n",
    "       'Exterior2nd_Wd Sdng', 'Foundation_Slab', 'Condition1_PosN',\n",
    "       'FireplaceQu_Fa', 'FireplaceQu_Po', 'RoofStyle_Hip',\n",
    "       'Heating_Wall', 'ExterCond_Ex', 'Neighborhood_Veenker',\n",
    "       'Condition2_Feedr']"
   ]
  },
  {
   "cell_type": "code",
   "execution_count": 4,
   "metadata": {},
   "outputs": [],
   "source": [
    "count_interval_time_pip = Pipeline([\n",
    "                (\"selector\", c.DataFrameSelector(columns=interval_col+new_futures)),\n",
    "                (\"standard\", StandardScaler())\n",
    "            ])\n",
    "nominal_pip = Pipeline([\n",
    "                (\"selector\", c.DataFrameSelector(columns=nominal_col)),\n",
    "                (\"one_hot_encoder\", c.DataFrameOneHotEncoder(columns=nominal_col, handle_unknown=\"ignore\", categories=nominal_col_cats, sparse=False))\n",
    "            ])\n",
    "binary_ordinal_pip = Pipeline([\n",
    "                (\"selector\", c.DataFrameSelector(columns=binary_col+ordinal_col)),\n",
    "                (\"one_hot_encoder\", c.DataFrameOneHotEncoder(columns=binary_col+ordinal_col, handle_unknown=\"ignore\", categories=binary_col_cats+ordinal_col_cats, sparse=False))\n",
    "            ])\n",
    "missing_vallue_pip = Pipeline([\n",
    "                (\"selector\", c.DataFrameSelector(columns=all_initial_futures, inplace=False)),\n",
    "                (\"most_frequent_imputer\", c.DataFrameImputer(strategy=\"most_frequent\", columns=[\n",
    "                    \"MSZoning\", \"Utilities\", \"Exterior1st\", \"Exterior2nd\", \"KitchenQual\",\n",
    "                    \"GarageCars\", \"SaleType\"], inplace=True)),\n",
    "                (\"mean_imputer\", c.DataFrameImputer(strategy=\"mean\", columns=[\n",
    "                    \"BsmtFinSF1\", \"BsmtFinSF2\", \"BsmtUnfSF\", \"TotalBsmtSF\", \"BsmtFullBath\",\n",
    "                    \"BsmtHalfBath\", \"GarageArea\", ], inplace=True)),\n",
    "\n",
    "                (\"new_features_imputer\", c.NewFeaturesImputer(inplace=True)),\n",
    "                (\"mas_vnr_imputer\", c.ConstantImputer(columns=[\"MasVnrArea\", \"MasVnrType\"], string_fill_val=\"None\", inplace=True)),\n",
    "                (\"electrical_imputer\", c.DataFrameImputer(strategy=\"most_frequent\", columns=[\"Electrical\"], inplace=True)),\n",
    "                (\"garage_yr_imputer\", c.GarageYrImputer(inplace=True)),\n",
    "                (\"lot_frontage_imputer\", c.LotFrontageImputer(inplace=True)),\n",
    "                (\"all_constant_imputer\", c.ConstantImputer(columns=all_initial_futures+new_futures, inplace=True))\n",
    "            ])\n",
    "full_pip = Pipeline([\n",
    "    (\"missing_vallue\", missing_vallue_pip),\n",
    "    (\"one_hot_encoder\", c.DataFrameOneHotEncoder(columns=nominal_col+binary_col+ordinal_col, handle_unknown=\"ignore\", categories=nominal_col_cats+binary_col_cats+ordinal_col_cats, sparse=False)),\n",
    "    (\"log_scaler\", c.DataFrameLogScaler(columns=count_col)),\n",
    "    (\"scaler\", c.DataFrameScaler(columns=interval_col + time_col + new_futures)),\n",
    "    (\"selector\", c.DataFrameSelector(columns=important_features, inplace=True))\n",
    "])\n"
   ]
  },
  {
   "cell_type": "code",
   "execution_count": 5,
   "metadata": {},
   "outputs": [],
   "source": [
    "tuned_parameters = [{'kernel': ['rbf'], 'gamma': [1e-1, 1e-2, 1e-3, 1e-4, 1e-5, 1e-6],\n",
    "                     'C': [1, 10, 100, 1000]},\n",
    "                    {'kernel': ['linear'], 'C': [1, 10, 100, 1000]}]\n",
    "clf = GridSearchCV(SVR(), tuned_parameters, cv=5, scoring=\"neg_mean_squared_error\", verbose=1)"
   ]
  },
  {
   "cell_type": "code",
   "execution_count": 8,
   "metadata": {},
   "outputs": [
    {
     "name": "stderr",
     "output_type": "stream",
     "text": [
      "C:\\Users\\Paul\\AppData\\Local\\conda\\conda\\envs\\handson-ml\\lib\\site-packages\\sklearn\\preprocessing\\data.py:645: DataConversionWarning: Data with input dtype int64, float64 were all converted to float64 by StandardScaler.\n",
      "  return self.partial_fit(X, y)\n",
      "C:\\Users\\Paul\\Desktop\\ml-projects\\house-prices\\classes.py:71: DataConversionWarning: Data with input dtype int64, float64 were all converted to float64 by StandardScaler.\n",
      "  scaled_matrix = self.scaler.transform(X[self.columns])\n",
      "C:\\Users\\Paul\\Desktop\\ml-projects\\house-prices\\classes.py:71: DataConversionWarning: Data with input dtype int64, float64 were all converted to float64 by StandardScaler.\n",
      "  scaled_matrix = self.scaler.transform(X[self.columns])\n"
     ]
    }
   ],
   "source": [
    "X_train_tr = full_pip.fit_transform(X)\n",
    "X_test_tr = full_pip.transform(test_df)"
   ]
  },
  {
   "cell_type": "code",
   "execution_count": 10,
   "metadata": {},
   "outputs": [
    {
     "name": "stderr",
     "output_type": "stream",
     "text": [
      "C:\\Users\\Paul\\AppData\\Local\\conda\\conda\\envs\\handson-ml\\lib\\site-packages\\sklearn\\preprocessing\\data.py:645: DataConversionWarning: Data with input dtype int64, float64 were all converted to float64 by StandardScaler.\n",
      "  return self.partial_fit(X, y)\n",
      "C:\\Users\\Paul\\Desktop\\ml-projects\\house-prices\\classes.py:71: DataConversionWarning: Data with input dtype int64, float64 were all converted to float64 by StandardScaler.\n",
      "  scaled_matrix = self.scaler.transform(X[self.columns])\n",
      "C:\\Users\\Paul\\Desktop\\ml-projects\\house-prices\\classes.py:71: DataConversionWarning: Data with input dtype int64, float64 were all converted to float64 by StandardScaler.\n",
      "  scaled_matrix = self.scaler.transform(X[self.columns])\n",
      "[Parallel(n_jobs=1)]: Using backend SequentialBackend with 1 concurrent workers.\n"
     ]
    },
    {
     "name": "stdout",
     "output_type": "stream",
     "text": [
      "Fitting 5 folds for each of 28 candidates, totalling 140 fits\n"
     ]
    },
    {
     "name": "stderr",
     "output_type": "stream",
     "text": [
      "[Parallel(n_jobs=1)]: Done 140 out of 140 | elapsed:  3.0min finished\n",
      "C:\\Users\\Paul\\AppData\\Local\\conda\\conda\\envs\\handson-ml\\lib\\site-packages\\sklearn\\model_selection\\_search.py:841: DeprecationWarning: The default of the `iid` parameter will change from True to False in version 0.22 and will be removed in 0.24. This will change numeric results when test-set sizes are unequal.\n",
      "  DeprecationWarning)\n"
     ]
    },
    {
     "name": "stdout",
     "output_type": "stream",
     "text": [
      "Best parameters set found on development set:\n",
      "{'C': 1000, 'kernel': 'linear'}\n"
     ]
    }
   ],
   "source": [
    "X_train_tr = full_pip.fit_transform(X)\n",
    "X_test_tr = full_pip.transform(test_df)\n",
    "\n",
    "clf.fit(X_train_tr, y)\n",
    "print(\"Best parameters set found on development set:\")\n",
    "print(clf.best_params_)"
   ]
  },
  {
   "cell_type": "code",
   "execution_count": 11,
   "metadata": {},
   "outputs": [
    {
     "data": {
      "text/plain": [
       "30044.35199491915"
      ]
     },
     "execution_count": 11,
     "metadata": {},
     "output_type": "execute_result"
    }
   ],
   "source": [
    "model = clf.best_estimator_\n",
    "y_train_pr = model.predict(X_train_tr)\n",
    "y_test_pr = model.predict(X_test_tr)\n",
    "mse_train = mean_squared_error(y, y_train_pr)\n",
    "# mse_test = mean_squared_error(y_test, y_test_pr)\n",
    "np.sqrt(mse_train)#, np.sqrt(mse_test)"
   ]
  },
  {
   "cell_type": "code",
   "execution_count": null,
   "metadata": {},
   "outputs": [],
   "source": [
    "f.columns_with_missing_values(test_df)"
   ]
  },
  {
   "cell_type": "code",
   "execution_count": 15,
   "metadata": {},
   "outputs": [],
   "source": [
    "results = pd.DataFrame(y_test_pr, columns=[\"SalePrice\"], index=test_df.index)"
   ]
  },
  {
   "cell_type": "code",
   "execution_count": 16,
   "metadata": {},
   "outputs": [],
   "source": [
    "results.to_csv(\"results_v1.csv\")"
   ]
  },
  {
   "cell_type": "code",
   "execution_count": null,
   "metadata": {},
   "outputs": [],
   "source": []
  }
 ],
 "metadata": {
  "kernelspec": {
   "display_name": "Python 3",
   "language": "python",
   "name": "python3"
  },
  "language_info": {
   "codemirror_mode": {
    "name": "ipython",
    "version": 3
   },
   "file_extension": ".py",
   "mimetype": "text/x-python",
   "name": "python",
   "nbconvert_exporter": "python",
   "pygments_lexer": "ipython3",
   "version": "3.6.8"
  }
 },
 "nbformat": 4,
 "nbformat_minor": 2
}
