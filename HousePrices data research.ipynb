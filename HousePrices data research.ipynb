{
 "cells": [
  {
   "cell_type": "code",
   "execution_count": 1,
   "metadata": {},
   "outputs": [],
   "source": [
    "%load_ext autoreload\n",
    "%autoreload 2\n",
    "\n",
    "import numpy as np\n",
    "import pandas as pd\n",
    "import matplotlib.pyplot as plt\n",
    "import re\n",
    "\n",
    "import functions as f"
   ]
  },
  {
   "cell_type": "code",
   "execution_count": 2,
   "metadata": {},
   "outputs": [],
   "source": [
    "train_df = pd.read_csv(\"datasets/train.csv\").set_index(\"Id\")\n",
    "test_df = pd.read_csv(\"datasets/test.csv\").set_index(\"Id\")\n",
    "train_df[pd.isnull(train_df)] = np.NaN\n",
    "test_df[pd.isnull(test_df)] = np.NaN"
   ]
  },
  {
   "cell_type": "code",
   "execution_count": 3,
   "metadata": {},
   "outputs": [],
   "source": [
    "drop_col = []\n",
    "nominal_col = [\"MSSubClass\", \"MSZoning\", \"LandContour\", \"LotConfig\",\n",
    "               \"Neighborhood\", \"Condition1\", \"Condition2\", \"BldgType\", \"HouseStyle\",\n",
    "               \"RoofStyle\", \"RoofMatl\", \"Exterior1st\", \"Exterior2nd\", \"MasVnrType\",\n",
    "               \"Foundation\", \"Heating\", \"Electrical\", \"GarageType\", \"Fence\", \"MiscFeature\", \n",
    "              \"SaleType\", \"SaleCondition\"]\n",
    "binary_col = [\"Street\", \"CentralAir\"]\n",
    "ordinal_col = [\"Alley\", \"LotShape\", \"Utilities\", \"LandSlope\", \"OverallQual\", \"OverallCond\",\n",
    "               \"ExterQual\", \"ExterCond\", \"BsmtQual\", \"BsmtCond\", \"BsmtExposure\", \"BsmtFinType1\",\n",
    "               \"BsmtFinType2\", \"HeatingQC\", \"KitchenQual\", \"Functional\", \"FireplaceQu\",\n",
    "               \"GarageFinish\", \"GarageQual\", \"GarageCond\", \"PavedDrive\", \"PoolQC\"]\n",
    "count_col = [\"BsmtFullBath\", \"BsmtHalfBath\", \"FullBath\", \"HalfBath\", \"BedroomAbvGr\", \"KitchenAbvGr\",\n",
    "                \"TotRmsAbvGrd\", \"Fireplaces\", \"GarageCars\"]\n",
    "interval_col = [\"LotFrontage\", \"LotArea\", \"MasVnrArea\", \"BsmtFinSF1\", \"BsmtFinSF2\", \"BsmtUnfSF\",\n",
    "                \"TotalBsmtSF\", \"1stFlrSF\", \"2ndFlrSF\", \"LowQualFinSF\", \"GrLivArea\",\n",
    "                \"GarageArea\", \"WoodDeckSF\", \"OpenPorchSF\", \"EnclosedPorch\", \"3SsnPorch\",\n",
    "                \"ScreenPorch\", \"PoolArea\", \"MiscVal\"]\n",
    "time_col = [\"YearBuilt\", \"YearRemodAdd\", \"GarageYrBlt\", \"MoSold\", \"YrSold\"]\n",
    "miss_vall_col = [\"LotFrontage\", \"MasVnrArea\", \"MasVnrType\", \"Electrical\"]"
   ]
  },
  {
   "cell_type": "code",
   "execution_count": 4,
   "metadata": {},
   "outputs": [
    {
     "data": {
      "text/plain": [
       "True"
      ]
     },
     "execution_count": 4,
     "metadata": {},
     "output_type": "execute_result"
    }
   ],
   "source": [
    "f.lists_eq(train_df.columns, nominal_col+binary_col+ordinal_col+count_col+interval_col+time_col+[\"SalePrice\"])"
   ]
  },
  {
   "cell_type": "code",
   "execution_count": 5,
   "metadata": {},
   "outputs": [],
   "source": [
    "from sklearn.impute import SimpleImputer"
   ]
  },
  {
   "cell_type": "code",
   "execution_count": 6,
   "metadata": {},
   "outputs": [],
   "source": [
    "imputer = SimpleImputer(strategy=\"constant\")"
   ]
  },
  {
   "cell_type": "code",
   "execution_count": 9,
   "metadata": {},
   "outputs": [
    {
     "name": "stdout",
     "output_type": "stream",
     "text": [
      "<class 'pandas.core.frame.DataFrame'>\n",
      "Int64Index: 1460 entries, 1 to 1460\n",
      "Data columns (total 19 columns):\n",
      "LotFrontage      1201 non-null float64\n",
      "LotArea          1460 non-null int64\n",
      "MasVnrArea       1452 non-null float64\n",
      "BsmtFinSF1       1460 non-null int64\n",
      "BsmtFinSF2       1460 non-null int64\n",
      "BsmtUnfSF        1460 non-null int64\n",
      "TotalBsmtSF      1460 non-null int64\n",
      "1stFlrSF         1460 non-null int64\n",
      "2ndFlrSF         1460 non-null int64\n",
      "LowQualFinSF     1460 non-null int64\n",
      "GrLivArea        1460 non-null int64\n",
      "GarageArea       1460 non-null int64\n",
      "WoodDeckSF       1460 non-null int64\n",
      "OpenPorchSF      1460 non-null int64\n",
      "EnclosedPorch    1460 non-null int64\n",
      "3SsnPorch        1460 non-null int64\n",
      "ScreenPorch      1460 non-null int64\n",
      "PoolArea         1460 non-null int64\n",
      "MiscVal          1460 non-null int64\n",
      "dtypes: float64(2), int64(17)\n",
      "memory usage: 228.1 KB\n"
     ]
    }
   ],
   "source": [
    "train_df[interval_col].info()"
   ]
  },
  {
   "cell_type": "code",
   "execution_count": 13,
   "metadata": {},
   "outputs": [
    {
     "data": {
      "text/plain": [
       "Id\n",
       "235    NaN\n",
       "530    NaN\n",
       "651    NaN\n",
       "937    NaN\n",
       "974    NaN\n",
       "978    NaN\n",
       "1244   NaN\n",
       "1279   NaN\n",
       "Name: MasVnrArea, dtype: float64"
      ]
     },
     "execution_count": 13,
     "metadata": {},
     "output_type": "execute_result"
    }
   ],
   "source": [
    "train_df.loc[train_df[\"MasVnrType\"].isnull(), \"MasVnrArea\"]"
   ]
  },
  {
   "cell_type": "code",
   "execution_count": 17,
   "metadata": {},
   "outputs": [
    {
     "name": "stdout",
     "output_type": "stream",
     "text": [
      "<class 'pandas.core.frame.DataFrame'>\n",
      "Int64Index: 1460 entries, 1 to 1460\n",
      "Data columns (total 2 columns):\n",
      "MasVnrType    1452 non-null object\n",
      "MasVnrArea    1452 non-null float64\n",
      "dtypes: float64(1), object(1)\n",
      "memory usage: 34.2+ KB\n"
     ]
    }
   ],
   "source": [
    "train_df.loc[:, [\"MasVnrType\", \"MasVnrArea\"]].info()"
   ]
  },
  {
   "cell_type": "code",
   "execution_count": 22,
   "metadata": {},
   "outputs": [
    {
     "data": {
      "text/plain": [
       "Id\n",
       "1       False\n",
       "2        True\n",
       "3       False\n",
       "4        True\n",
       "5       False\n",
       "6        True\n",
       "7       False\n",
       "8       False\n",
       "9        True\n",
       "10       True\n",
       "11       True\n",
       "12      False\n",
       "13       True\n",
       "14      False\n",
       "15      False\n",
       "16       True\n",
       "17      False\n",
       "18       True\n",
       "19       True\n",
       "20       True\n",
       "21      False\n",
       "22       True\n",
       "23      False\n",
       "24       True\n",
       "25       True\n",
       "26      False\n",
       "27       True\n",
       "28      False\n",
       "29       True\n",
       "30       True\n",
       "        ...  \n",
       "1431     True\n",
       "1432     True\n",
       "1433     True\n",
       "1434    False\n",
       "1435     True\n",
       "1436    False\n",
       "1437     True\n",
       "1438    False\n",
       "1439     True\n",
       "1440    False\n",
       "1441     True\n",
       "1442    False\n",
       "1443    False\n",
       "1444     True\n",
       "1445    False\n",
       "1446     True\n",
       "1447    False\n",
       "1448    False\n",
       "1449     True\n",
       "1450     True\n",
       "1451     True\n",
       "1452    False\n",
       "1453    False\n",
       "1454     True\n",
       "1455     True\n",
       "1456     True\n",
       "1457    False\n",
       "1458     True\n",
       "1459     True\n",
       "1460     True\n",
       "Name: MasVnrType, Length: 1460, dtype: bool"
      ]
     },
     "execution_count": 22,
     "metadata": {},
     "output_type": "execute_result"
    }
   ],
   "source": [
    "train_df[train_df[\"MasVnrType\"].isnull()] == \"None\""
   ]
  },
  {
   "cell_type": "code",
   "execution_count": 21,
   "metadata": {
    "collapsed": true
   },
   "outputs": [
    {
     "data": {
      "text/plain": [
       "0.0       861\n",
       "72.0        8\n",
       "180.0       8\n",
       "108.0       8\n",
       "120.0       7\n",
       "16.0        7\n",
       "80.0        6\n",
       "200.0       6\n",
       "106.0       6\n",
       "340.0       6\n",
       "170.0       5\n",
       "132.0       5\n",
       "360.0       5\n",
       "84.0        5\n",
       "320.0       5\n",
       "100.0       4\n",
       "196.0       4\n",
       "246.0       4\n",
       "216.0       4\n",
       "160.0       4\n",
       "183.0       4\n",
       "178.0       4\n",
       "270.0       4\n",
       "300.0       4\n",
       "210.0       4\n",
       "268.0       4\n",
       "252.0       4\n",
       "168.0       4\n",
       "336.0       4\n",
       "220.0       4\n",
       "         ... \n",
       "14.0        1\n",
       "53.0        1\n",
       "24.0        1\n",
       "127.0       1\n",
       "365.0       1\n",
       "115.0       1\n",
       "562.0       1\n",
       "259.0       1\n",
       "378.0       1\n",
       "219.0       1\n",
       "161.0       1\n",
       "247.0       1\n",
       "109.0       1\n",
       "278.0       1\n",
       "375.0       1\n",
       "225.0       1\n",
       "604.0       1\n",
       "762.0       1\n",
       "290.0       1\n",
       "299.0       1\n",
       "202.0       1\n",
       "731.0       1\n",
       "167.0       1\n",
       "309.0       1\n",
       "1129.0      1\n",
       "651.0       1\n",
       "337.0       1\n",
       "415.0       1\n",
       "293.0       1\n",
       "621.0       1\n",
       "Name: MasVnrArea, Length: 327, dtype: int64"
      ]
     },
     "execution_count": 21,
     "metadata": {},
     "output_type": "execute_result"
    }
   ],
   "source": [
    "train_df[\"MasVnrArea\"].value_counts()"
   ]
  },
  {
   "cell_type": "code",
   "execution_count": null,
   "metadata": {},
   "outputs": [],
   "source": []
  }
 ],
 "metadata": {
  "kernelspec": {
   "display_name": "Python 3",
   "language": "python",
   "name": "python3"
  },
  "language_info": {
   "codemirror_mode": {
    "name": "ipython",
    "version": 3
   },
   "file_extension": ".py",
   "mimetype": "text/x-python",
   "name": "python",
   "nbconvert_exporter": "python",
   "pygments_lexer": "ipython3",
   "version": "3.6.8"
  }
 },
 "nbformat": 4,
 "nbformat_minor": 2
}
