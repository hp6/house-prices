{
 "cells": [
  {
   "cell_type": "code",
   "execution_count": null,
   "metadata": {},
   "outputs": [],
   "source": [
    "%load_ext autoreload\n",
    "%autoreload 2\n",
    "\n",
    "import numpy as np\n",
    "import pandas as pd\n",
    "import matplotlib.pyplot as plt\n",
    "import re\n",
    "\n",
    "from sklearn.model_selection import train_test_split\n",
    "\n",
    "from sklearn.impute import SimpleImputer\n",
    "\n",
    "from sklearn.preprocessing import StandardScaler\n",
    "from sklearn.preprocessing import OneHotEncoder\n",
    "from sklearn.preprocessing import LabelEncoder\n",
    "\n",
    "from sklearn.svm import SVR\n",
    "\n",
    "from sklearn.pipeline import Pipeline, FeatureUnion\n",
    "\n",
    "from sklearn.metrics import mean_squared_error\n",
    "\n",
    "import functions as f\n",
    "import classes as c"
   ]
  },
  {
   "cell_type": "code",
   "execution_count": null,
   "metadata": {},
   "outputs": [],
   "source": [
    "train_df = pd.read_csv(\"datasets/train.csv\", na_values=np.NaN).set_index(\"Id\")\n",
    "test_df = pd.read_csv(\"datasets/test.csv\", na_values=np.NaN).set_index(\"Id\")\n",
    "corr_matrix = train_df.corr()\n",
    "# train_df[pd.isnull(train_df)] = np.NaN\n",
    "X = train_df.drop(\"SalePrice\", axis=1).copy()\n",
    "y = train_df[\"SalePrice\"].copy()\n",
    "\n",
    "X_train, X_test, y_train, y_test = train_test_split(X, y, test_size=0.33, random_state=42)"
   ]
  },
  {
   "cell_type": "code",
   "execution_count": 3,
   "metadata": {},
   "outputs": [],
   "source": [
    "train_incomplete_col = f.columns_with_missing_values(train_df)\n",
    "test_incomplete_col = f.columns_with_missing_values(test_df)\n",
    "incomplete_col_diff = np.setdiff1d(train_incomplete_col, test_incomplete_col), np.setdiff1d(test_incomplete_col, train_incomplete_col)\n",
    "\n",
    "drop_col = []\n",
    "\n",
    "nominal_col = [\"MSSubClass\", \"MSZoning\", \"LandContour\", \"LotConfig\",\n",
    "               \"Neighborhood\", \"Condition1\", \"Condition2\", \"BldgType\", \"HouseStyle\",\n",
    "               \"RoofStyle\", \"RoofMatl\", \"Exterior1st\", \"Exterior2nd\", \"MasVnrType\",\n",
    "               \"Foundation\", \"Heating\", \"Electrical\", \"GarageType\", \"Fence\", \"MiscFeature\", \n",
    "              \"SaleType\", \"SaleCondition\"]\n",
    "binary_col = [\"Street\", \"CentralAir\"]\n",
    "ordinal_col = [\"Alley\", \"LotShape\", \"Utilities\", \"LandSlope\", \"OverallQual\", \"OverallCond\",\n",
    "               \"ExterQual\", \"ExterCond\", \"BsmtQual\", \"BsmtCond\", \"BsmtExposure\", \"BsmtFinType1\",\n",
    "               \"BsmtFinType2\", \"HeatingQC\", \"KitchenQual\", \"Functional\", \"FireplaceQu\",\n",
    "               \"GarageFinish\", \"GarageQual\", \"GarageCond\", \"PavedDrive\", \"PoolQC\"]\n",
    "count_col = [\"BsmtFullBath\", \"BsmtHalfBath\", \"FullBath\", \"HalfBath\", \"BedroomAbvGr\", \"KitchenAbvGr\",\n",
    "                \"TotRmsAbvGrd\", \"Fireplaces\", \"GarageCars\"]\n",
    "interval_col = [\"LotFrontage\", \"LotArea\", \"MasVnrArea\", \"BsmtFinSF1\", \"BsmtFinSF2\", \"BsmtUnfSF\",\n",
    "                \"TotalBsmtSF\", \"1stFlrSF\", \"2ndFlrSF\", \"LowQualFinSF\", \"GrLivArea\",\n",
    "                \"GarageArea\", \"WoodDeckSF\", \"OpenPorchSF\", \"EnclosedPorch\", \"3SsnPorch\",\n",
    "                \"ScreenPorch\", \"PoolArea\", \"MiscVal\"]\n",
    "time_col = [\"YearBuilt\", \"YearRemodAdd\", \"GarageYrBlt\", \"MoSold\", \"YrSold\"]\n",
    "\n",
    "cat_num_col = [\"MSSubClass\"]\n",
    "miss_vall_col = [\"LotFrontage\", \"MasVnrArea\", \"MasVnrType\", \"Electrical\", \"GarageYrBlt\"]\n",
    "na_cat_col = [\"Alley\", \"BsmtQual\", \"BsmtCond\", \"BsmtExposure\", \"BsmtFinType1\",\n",
    "                  \"BsmtFinType2\", \"FireplaceQu\", \"GarageType\", \"GarageFinish\", \"GarageQual\",\n",
    "                  \"GarageCond\", \"PoolQC\", \"Fence\", \"MiscFeature\"]\n",
    "\n",
    "nominal_col_cats = f.unique_values(train_df[nominal_col])\n",
    "binary_col_cats = f.unique_values(train_df[binary_col])\n",
    "ordinal_col_cats = f.unique_values(train_df[ordinal_col])\n",
    "\n",
    "# one_hot_col = nominal_col + \n",
    "# label_enc_col = binary_col + ordinal_col"
   ]
  },
  {
   "cell_type": "code",
   "execution_count": 11,
   "metadata": {
    "scrolled": true
   },
   "outputs": [],
   "source": [
    "ohe = OneHotEncoder(categories=\"auto\" ,sparse=False).fit(train_df[[\"MSSubClass\"]])"
   ]
  },
  {
   "cell_type": "code",
   "execution_count": 12,
   "metadata": {},
   "outputs": [
    {
     "data": {
      "text/plain": [
       "(1460, 15)"
      ]
     },
     "execution_count": 12,
     "metadata": {},
     "output_type": "execute_result"
    }
   ],
   "source": [
    "ohe.transform(train_df[[\"MSSubClass\"]]).shape"
   ]
  },
  {
   "cell_type": "code",
   "execution_count": null,
   "metadata": {},
   "outputs": [],
   "source": [
    "num_to_cat = c.NumToCat(columns=[\"MSSubClass\"]).fit(train_df)"
   ]
  },
  {
   "cell_type": "code",
   "execution_count": null,
   "metadata": {},
   "outputs": [],
   "source": [
    "train_df.loc[train_df[\"MasVnrType\"] == \"BrkCmn\", \"MasVnrArea\"].hist()"
   ]
  },
  {
   "cell_type": "code",
   "execution_count": null,
   "metadata": {},
   "outputs": [],
   "source": [
    "corr_matrix[\"MasVnrArea\"].sort_values(ascending=False)"
   ]
  },
  {
   "cell_type": "code",
   "execution_count": null,
   "metadata": {},
   "outputs": [],
   "source": [
    "const_imputer = c.ConstantImputer(columns=na_cat_col, inplace=True).fit(train_df)"
   ]
  },
  {
   "cell_type": "code",
   "execution_count": null,
   "metadata": {},
   "outputs": [],
   "source": [
    "const_imputer.transform(train_df)"
   ]
  },
  {
   "cell_type": "code",
   "execution_count": null,
   "metadata": {},
   "outputs": [],
   "source": [
    "mas_vnr_imputer = c.MasVnrImputer().fit(train_df)\n",
    "mas_vnr_imputer.transform(train_df)"
   ]
  },
  {
   "cell_type": "code",
   "execution_count": null,
   "metadata": {},
   "outputs": [],
   "source": [
    "from sklearn.linear_model import LogisticRegressionCV"
   ]
  },
  {
   "cell_type": "code",
   "execution_count": null,
   "metadata": {},
   "outputs": [],
   "source": [
    "model = SVR(kernel=\"linear\")"
   ]
  },
  {
   "cell_type": "code",
   "execution_count": null,
   "metadata": {},
   "outputs": [],
   "source": [
    "mse_train = mean_squared_error(y_train, y_train_pr)"
   ]
  },
  {
   "cell_type": "code",
   "execution_count": null,
   "metadata": {},
   "outputs": [],
   "source": [
    "train_df = train_df[[\"LotArea\", \"GarageArea\", \"GarageCars\", \"LotFrontage\"]].copy()\n",
    "train_df.loc[:, \"LotAreaSqrt\"] = np.sqrt(train_df[\"LotArea\"].values)\n",
    "train_df.loc[:, \"GarageAreaSqrt\"] = np.sqrt(train_df[\"GarageArea\"].values)\n",
    "train_df.dropna(axis=0, inplace=True)\n",
    "X = train_df.drop(\"LotFrontage\", axis=1).copy()\n",
    "y = train_df[\"LotFrontage\"].copy()\n",
    "X_train, X_test, y_train, y_test = train_test_split(X, y, test_size=0.33, random_state=42)"
   ]
  },
  {
   "cell_type": "code",
   "execution_count": null,
   "metadata": {},
   "outputs": [],
   "source": [
    "model.fit(X_train, y_train)"
   ]
  },
  {
   "cell_type": "code",
   "execution_count": null,
   "metadata": {},
   "outputs": [],
   "source": [
    "y_train_pr = model.predict(X_train)\n",
    "y_test_pr = model.predict(X_test)\n",
    "mse_train = mean_squared_error(y_train, y_train_pr)\n",
    "mse_test = mean_squared_error(y_test, y_test_pr)"
   ]
  },
  {
   "cell_type": "code",
   "execution_count": null,
   "metadata": {
    "scrolled": true
   },
   "outputs": [],
   "source": [
    "y_test_pr[:10], y_test.values[:10]"
   ]
  },
  {
   "cell_type": "code",
   "execution_count": null,
   "metadata": {
    "scrolled": true
   },
   "outputs": [],
   "source": [
    "corr_matrix[\"LotFrontage\"].sort_values(ascending=False)"
   ]
  },
  {
   "cell_type": "code",
   "execution_count": null,
   "metadata": {},
   "outputs": [],
   "source": [
    "plt.scatter(x=train_df[\"LotFrontage\"], y=np.sqrt(train_df[\"LotArea\"]), alpha=0.4)"
   ]
  },
  {
   "cell_type": "code",
   "execution_count": null,
   "metadata": {},
   "outputs": [],
   "source": [
    "np.correlate(train_df[\"LotFrontage\"].values, np.sqrt(train_df[\"LotArea\"].values))"
   ]
  },
  {
   "cell_type": "code",
   "execution_count": null,
   "metadata": {},
   "outputs": [],
   "source": [
    "count_interval_time_pip = Pipeline([\n",
    "                (\"selector\", c.DataFrameSelector(columns=interval_col)),\n",
    "                (\"standard\", StandardScaler())\n",
    "            ])\n",
    "nominal_pip = Pipeline([\n",
    "                (\"selector\", c.DataFrameSelector(columns=nominal_col)),\n",
    "                (\"one_hot_encoder\", OneHotEncoder(handle_unknown=\"ignore\", categories=nominal_col_cats, sparse=False))\n",
    "            ])\n",
    "binary_ordinal_pip = Pipeline([\n",
    "                (\"selector\", c.DataFrameSelector(columns=binary_col+ordinal_col)),\n",
    "                (\"one_hot_encoder\", OneHotEncoder(handle_unknown=\"ignore\", categories=binary_col_cats+ordinal_col_cats, sparse=False))\n",
    "            ])\n",
    "missing_vallue_pip = Pipeline([\n",
    "                (\"selector\", c.DataFrameSelector(columns=X.columns)),\n",
    "                (\"na_cat_imputer\", c.NaCatImputer(columns=na_cat_col)),\n",
    "                (\"mas_vnr_imputer\", c.MasVnrImputer()),\n",
    "                (\"mean_imputer\", c.DataFrameImputer(strategy=\"mean\", columns=[\"LotFrontage\"])),\n",
    "                (\"most_frequent_imputer\", c.DataFrameImputer(strategy=\"most_frequent\", columns=[\"Electrical\"])),\n",
    "                (\"const_imputer\", c.ConstantImputer(columns=nominal_col+binary_col+ordinal_col)),\n",
    "\n",
    "            ])\n"
   ]
  },
  {
   "cell_type": "code",
   "execution_count": null,
   "metadata": {},
   "outputs": [],
   "source": [
    "full_pip = Pipeline([\n",
    "    (\"missing_vallue\", missing_vallue_pip),\n",
    "    (\"feature_union\", FeatureUnion([\n",
    "        (\"count_interval_time\", count_interval_time_pip),\n",
    "        (\"nominal\", nominal_pip),\n",
    "        (\"binary_ordinal_pip\", binary_ordinal_pip)]))\n",
    "])"
   ]
  },
  {
   "cell_type": "code",
   "execution_count": null,
   "metadata": {
    "scrolled": true
   },
   "outputs": [],
   "source": [
    "X_train_tr = full_pip.fit_transform(X_train)\n",
    "X_test_tr = full_pip.transform(X_test)"
   ]
  },
  {
   "cell_type": "code",
   "execution_count": null,
   "metadata": {},
   "outputs": [],
   "source": [
    "model = SVR(kernel=\"linear\")\n",
    "model.fit(X_train_tr, y_train)"
   ]
  },
  {
   "cell_type": "code",
   "execution_count": null,
   "metadata": {},
   "outputs": [],
   "source": [
    "y_train_pr = model.predict(X_train_tr)\n",
    "y_test_pr = model.predict(X_test_tr)"
   ]
  },
  {
   "cell_type": "code",
   "execution_count": null,
   "metadata": {},
   "outputs": [],
   "source": [
    "from sklearn.metrics import mean_squared_error"
   ]
  },
  {
   "cell_type": "code",
   "execution_count": null,
   "metadata": {},
   "outputs": [],
   "source": [
    "mse_train = mean_squared_error(y_train, y_train_pr)"
   ]
  },
  {
   "cell_type": "code",
   "execution_count": null,
   "metadata": {},
   "outputs": [],
   "source": [
    "mse_test = mean_squared_error(y_test, y_test_pr)"
   ]
  }
 ],
 "metadata": {
  "kernelspec": {
   "display_name": "Python 3",
   "language": "python",
   "name": "python3"
  },
  "language_info": {
   "codemirror_mode": {
    "name": "ipython",
    "version": 3
   },
   "file_extension": ".py",
   "mimetype": "text/x-python",
   "name": "python",
   "nbconvert_exporter": "python",
   "pygments_lexer": "ipython3",
   "version": "3.6.8"
  }
 },
 "nbformat": 4,
 "nbformat_minor": 2
}
